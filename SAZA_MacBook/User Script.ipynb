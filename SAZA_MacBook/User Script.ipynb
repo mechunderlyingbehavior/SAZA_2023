{
 "cells": [
  {
   "cell_type": "markdown",
   "id": "f6a9787f",
   "metadata": {},
   "source": [
    "# User Script"
   ]
  },
  {
   "cell_type": "code",
   "execution_count": null,
   "id": "0f304c00",
   "metadata": {
    "scrolled": false
   },
   "outputs": [],
   "source": [
    "from MakeCSV import makecsv\n",
    "from ROIData import ROIData\n",
    "from Sparklines import Sparklines\n",
    "from SaveTriggers import SaveTriggers\n",
    "data_folder = input(\"input the folder that contains .tdms file:\")\n",
    "makecsv(data_folder)\n",
    "ROIData(data_folder)"
   ]
  },
  {
   "cell_type": "code",
   "execution_count": null,
   "id": "6a48d0d3",
   "metadata": {},
   "outputs": [],
   "source": [
    "#Sparklines(data_folder)"
   ]
  },
  {
   "cell_type": "code",
   "execution_count": null,
   "id": "5676da70",
   "metadata": {},
   "outputs": [],
   "source": [
    "#SaveTriggers(data_folder,0,1000,Bin_Lengths=['0-1000', '1000-2000', '2000-3000', '3000-5000','5000-8000','8000-11000', '11000-15000', '15000-20000'])"
   ]
  }
 ],
 "metadata": {
  "kernelspec": {
   "display_name": "Python 3 (ipykernel)",
   "language": "python",
   "name": "python3"
  },
  "language_info": {
   "codemirror_mode": {
    "name": "ipython",
    "version": 3
   },
   "file_extension": ".py",
   "mimetype": "text/x-python",
   "name": "python",
   "nbconvert_exporter": "python",
   "pygments_lexer": "ipython3",
   "version": "3.8.17"
  }
 },
 "nbformat": 4,
 "nbformat_minor": 5
}
