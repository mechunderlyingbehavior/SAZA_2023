{
 "cells": [
  {
   "cell_type": "code",
   "execution_count": 2,
   "id": "ee9d0a52",
   "metadata": {},
   "outputs": [],
   "source": [
    "import numpy as np\n",
    "import os, re, csv, tkinter, shutil\n",
    "import pandas as pd\n",
    "from itertools import compress\n",
    "from InROI import InROI\n",
    "from tkinter import filedialog\n",
    "from openpyxl import load_workbook\n",
    "import xlsxwriter\n",
    "import glob"
   ]
  },
  {
   "cell_type": "code",
   "execution_count": 3,
   "id": "607ee181",
   "metadata": {},
   "outputs": [
    {
     "name": "stdout",
     "output_type": "stream",
     "text": [
      "please input stimulus folder name:WT_2 20% ETOH_stimL\n",
      "please input control folder name:WT_2 20% ETOH_stimR\n"
     ]
    }
   ],
   "source": [
    "stim_folder = input('please input stimulus folder name:')\n",
    "control_folder = input('please input control folder name:')"
   ]
  },
  {
   "cell_type": "code",
   "execution_count": 4,
   "id": "bd163a28",
   "metadata": {},
   "outputs": [
    {
     "name": "stdout",
     "output_type": "stream",
     "text": [
      "stimulus files:\n",
      " ['E:\\\\SAZA\\\\SAZA\\\\Windows_version/WT_2 20% ETOH_stimL\\\\WT_2 20% ETOH_stimL_ROI_180sec.xlsx', 'E:\\\\SAZA\\\\SAZA\\\\Windows_version/WT_2 20% ETOH_stimL\\\\WT_2 20% ETOH_stimL_ROI_basic.xlsx', 'E:\\\\SAZA\\\\SAZA\\\\Windows_version/WT_2 20% ETOH_stimL\\\\WT_2 20% ETOH_stimL_ROI_edit.xlsx', 'E:\\\\SAZA\\\\SAZA\\\\Windows_version/WT_2 20% ETOH_stimL\\\\WT_2 20% ETOH_stimL_ROI_std.xlsx']\n",
      "control files:\n",
      " ['E:\\\\SAZA\\\\SAZA\\\\Windows_version/WT_2 20% ETOH_stimR\\\\WT_2 20% ETOH_stimR_ROI_180sec.xlsx', 'E:\\\\SAZA\\\\SAZA\\\\Windows_version/WT_2 20% ETOH_stimR\\\\WT_2 20% ETOH_stimR_ROI_basic.xlsx', 'E:\\\\SAZA\\\\SAZA\\\\Windows_version/WT_2 20% ETOH_stimR\\\\WT_2 20% ETOH_stimR_ROI_edit.xlsx', 'E:\\\\SAZA\\\\SAZA\\\\Windows_version/WT_2 20% ETOH_stimR\\\\WT_2 20% ETOH_stimR_ROI_std.xlsx']\n"
     ]
    }
   ],
   "source": [
    "stimpath = os.getcwd()+'/'+ stim_folder\n",
    "conpath = os.getcwd()+'/'+ control_folder\n",
    "# 模糊搜索的文件名，例如 \"*.txt\" 或 \"file_*.jpg\"\n",
    "file_pattern = \"*ROI*\"\n",
    "# *ROI* files path saved in list↓\n",
    "stimfiles = glob.glob(stimpath + \"/\" + file_pattern)\n",
    "confiles = glob.glob(conpath+'/'+file_pattern)\n",
    "# 打印匹配的文件列表\n",
    "print('stimulus files:\\n',stimfiles)\n",
    "print('control files:\\n',confiles)"
   ]
  },
  {
   "cell_type": "code",
   "execution_count": 5,
   "id": "22f7ea08",
   "metadata": {},
   "outputs": [
    {
     "name": "stdout",
     "output_type": "stream",
     "text": [
      "data merging for E:\\SAZA\\SAZA\\Windows_version/WT_2 20% ETOH_stimL\\WT_2 20% ETOH_stimL_ROI_180sec.xlsx\n",
      "WT_2 20% ETOH_stimL_ROI_180sec.xlsx\n",
      "data merging for E:\\SAZA\\SAZA\\Windows_version/WT_2 20% ETOH_stimL\\WT_2 20% ETOH_stimL_ROI_basic.xlsx\n",
      "WT_2 20% ETOH_stimL_ROI_basic.xlsx\n",
      "data merging for E:\\SAZA\\SAZA\\Windows_version/WT_2 20% ETOH_stimL\\WT_2 20% ETOH_stimL_ROI_edit.xlsx\n",
      "WT_2 20% ETOH_stimL_ROI_edit.xlsx\n",
      "data merging for E:\\SAZA\\SAZA\\Windows_version/WT_2 20% ETOH_stimL\\WT_2 20% ETOH_stimL_ROI_std.xlsx\n",
      "WT_2 20% ETOH_stimL_ROI_std.xlsx\n",
      "MERGING DONE!!!\n"
     ]
    }
   ],
   "source": [
    "merge_sheet_name_list = []\n",
    "dataframes_list = []\n",
    "for i in range(len(stimfiles)):\n",
    "    print('data merging for %s'%stimfiles[i])\n",
    "    merge_sheet_name_list = []\n",
    "    dataframes_list = []\n",
    "    # put sheet name into list\n",
    "    stimsheet = pd.read_excel(stimfiles[i],sheet_name=None)\n",
    "    stimsheetnames = list(stimsheet.keys())\n",
    "    consheet = pd.read_excel(confiles[i],sheet_name=None)\n",
    "    consheetnames = list(consheet.keys())\n",
    "    merge_file_name = stimfiles[i].split('\\\\')[-1]\n",
    "    print(merge_file_name)\n",
    "    #print(stimsheetnames)\n",
    "    for j in range(int(len(stimsheetnames)/2)):\n",
    "        pairmerge = pd.DataFrame()\n",
    "        stim_sheet_value = pd.read_excel(stimfiles[i],sheet_name=stimsheetnames[j])\n",
    "        con_sheet_value = pd.read_excel(confiles[i],sheet_name=consheetnames[int(len(stimsheetnames)/2+j)])\n",
    "        pairmerge = pd.concat([stim_sheet_value,con_sheet_value],axis = 0)\n",
    "        merge_sheet_name = stimsheetnames[j].split('_')[0]\n",
    "        merge_sheet_name_list.append(str(merge_sheet_name))\n",
    "        dataframes_list.append(pairmerge)\n",
    "    #print(len(merge_sheet_name_list))\n",
    "    #print(len(dataframes_list))\n",
    "    with pd.ExcelWriter(os.getcwd() + '/'+ merge_file_name, engine = 'xlsxwriter') as writer:\n",
    "        for k in range(len(dataframes_list)):\n",
    "            dataframes_list[k].to_excel(writer ,sheet_name = merge_sheet_name_list[k] ,index = False ,header = True)\n",
    "            \n",
    "print('MERGING DONE!!!')        "
   ]
  },
  {
   "cell_type": "code",
   "execution_count": null,
   "id": "b6e6791b",
   "metadata": {},
   "outputs": [],
   "source": []
  },
  {
   "cell_type": "code",
   "execution_count": null,
   "id": "5b144fc3",
   "metadata": {},
   "outputs": [],
   "source": []
  },
  {
   "cell_type": "code",
   "execution_count": null,
   "id": "1a392fb4",
   "metadata": {},
   "outputs": [],
   "source": []
  }
 ],
 "metadata": {
  "kernelspec": {
   "display_name": "Python 3 (ipykernel)",
   "language": "python",
   "name": "python3"
  },
  "language_info": {
   "codemirror_mode": {
    "name": "ipython",
    "version": 3
   },
   "file_extension": ".py",
   "mimetype": "text/x-python",
   "name": "python",
   "nbconvert_exporter": "python",
   "pygments_lexer": "ipython3",
   "version": "3.8.17"
  }
 },
 "nbformat": 4,
 "nbformat_minor": 5
}
