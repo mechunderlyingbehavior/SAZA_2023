{
 "cells": [
  {
   "cell_type": "markdown",
   "id": "898ecff9",
   "metadata": {},
   "source": [
    "# User Script"
   ]
  },
  {
   "cell_type": "code",
   "execution_count": null,
   "id": "fc7c3cc5",
   "metadata": {},
   "outputs": [],
   "source": [
    "data_folder = input(\"input the folder that contains .tdms file:\")\n",
    "from MakeCSV import makecsv\n",
    "from ROIData import ROIData\n",
    "makecsv(data_folder)\n",
    "ROIData(data_folder)"
   ]
  },
  {
   "cell_type": "code",
   "execution_count": null,
   "id": "c5ede234",
   "metadata": {},
   "outputs": [],
   "source": []
  }
 ],
 "metadata": {
  "kernelspec": {
   "display_name": "Python 3 (ipykernel)",
   "language": "python",
   "name": "python3"
  },
  "language_info": {
   "codemirror_mode": {
    "name": "ipython",
    "version": 3
   },
   "file_extension": ".py",
   "mimetype": "text/x-python",
   "name": "python",
   "nbconvert_exporter": "python",
   "pygments_lexer": "ipython3",
   "version": "3.8.17"
  }
 },
 "nbformat": 4,
 "nbformat_minor": 5
}
